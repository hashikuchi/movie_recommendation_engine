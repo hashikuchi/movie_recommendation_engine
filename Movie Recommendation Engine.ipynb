{
 "cells": [
  {
   "cell_type": "markdown",
   "metadata": {},
   "source": [
    "# Movie Recommendation Engine \n",
    "\n",
    "## What this does\n",
    "This engine recommends the movie which has the most similar plot from approximately 770 titles to the one you input.\n",
    "\n",
    "登録されている約770作品の映画の中から、入力された作品にもっとも近いあらすじをもつ作品を返します。\n"
   ]
  },
  {
   "cell_type": "markdown",
   "metadata": {},
   "source": [
    "### Data Setup\n",
    "Retrieves the list of movie titles from the box office ranking top 770 by web scraping.\n",
    "\n",
    "興行収入成績トップの映画作品770タイトルをスクレイピングにより取得します。"
   ]
  },
  {
   "cell_type": "code",
   "execution_count": 26,
   "metadata": {},
   "outputs": [
    {
     "name": "stdout",
     "output_type": "stream",
     "text": [
      "http://www.boxofficemojo.com/alltime/world/\n"
     ]
    },
    {
     "name": "stderr",
     "output_type": "stream",
     "text": [
      "/usr/local/lib/python3.6/site-packages/urllib3/connectionpool.py:858: InsecureRequestWarning: Unverified HTTPS request is being made. Adding certificate verification is strongly advised. See: https://urllib3.readthedocs.io/en/latest/advanced-usage.html#ssl-warnings\n",
      "  InsecureRequestWarning)\n"
     ]
    },
    {
     "name": "stdout",
     "output_type": "stream",
     "text": [
      "http://www.boxofficemojo.com/alltime/world/?pagenum=2&p=.htm\n"
     ]
    },
    {
     "name": "stderr",
     "output_type": "stream",
     "text": [
      "/usr/local/lib/python3.6/site-packages/urllib3/connectionpool.py:858: InsecureRequestWarning: Unverified HTTPS request is being made. Adding certificate verification is strongly advised. See: https://urllib3.readthedocs.io/en/latest/advanced-usage.html#ssl-warnings\n",
      "  InsecureRequestWarning)\n"
     ]
    },
    {
     "name": "stdout",
     "output_type": "stream",
     "text": [
      "http://www.boxofficemojo.com/alltime/world/?pagenum=3&p=.htm\n"
     ]
    },
    {
     "name": "stderr",
     "output_type": "stream",
     "text": [
      "/usr/local/lib/python3.6/site-packages/urllib3/connectionpool.py:858: InsecureRequestWarning: Unverified HTTPS request is being made. Adding certificate verification is strongly advised. See: https://urllib3.readthedocs.io/en/latest/advanced-usage.html#ssl-warnings\n",
      "  InsecureRequestWarning)\n"
     ]
    },
    {
     "name": "stdout",
     "output_type": "stream",
     "text": [
      "http://www.boxofficemojo.com/alltime/world/?pagenum=4&p=.htm\n"
     ]
    },
    {
     "name": "stderr",
     "output_type": "stream",
     "text": [
      "/usr/local/lib/python3.6/site-packages/urllib3/connectionpool.py:858: InsecureRequestWarning: Unverified HTTPS request is being made. Adding certificate verification is strongly advised. See: https://urllib3.readthedocs.io/en/latest/advanced-usage.html#ssl-warnings\n",
      "  InsecureRequestWarning)\n"
     ]
    },
    {
     "name": "stdout",
     "output_type": "stream",
     "text": [
      "http://www.boxofficemojo.com/alltime/world/?pagenum=5&p=.htm\n"
     ]
    },
    {
     "name": "stderr",
     "output_type": "stream",
     "text": [
      "/usr/local/lib/python3.6/site-packages/urllib3/connectionpool.py:858: InsecureRequestWarning: Unverified HTTPS request is being made. Adding certificate verification is strongly advised. See: https://urllib3.readthedocs.io/en/latest/advanced-usage.html#ssl-warnings\n",
      "  InsecureRequestWarning)\n"
     ]
    },
    {
     "name": "stdout",
     "output_type": "stream",
     "text": [
      "http://www.boxofficemojo.com/alltime/world/?pagenum=6&p=.htm\n"
     ]
    },
    {
     "name": "stderr",
     "output_type": "stream",
     "text": [
      "/usr/local/lib/python3.6/site-packages/urllib3/connectionpool.py:858: InsecureRequestWarning: Unverified HTTPS request is being made. Adding certificate verification is strongly advised. See: https://urllib3.readthedocs.io/en/latest/advanced-usage.html#ssl-warnings\n",
      "  InsecureRequestWarning)\n"
     ]
    },
    {
     "name": "stdout",
     "output_type": "stream",
     "text": [
      "http://www.boxofficemojo.com/alltime/world/?pagenum=7&p=.htm\n"
     ]
    },
    {
     "name": "stderr",
     "output_type": "stream",
     "text": [
      "/usr/local/lib/python3.6/site-packages/urllib3/connectionpool.py:858: InsecureRequestWarning: Unverified HTTPS request is being made. Adding certificate verification is strongly advised. See: https://urllib3.readthedocs.io/en/latest/advanced-usage.html#ssl-warnings\n",
      "  InsecureRequestWarning)\n"
     ]
    },
    {
     "name": "stdout",
     "output_type": "stream",
     "text": [
      "http://www.boxofficemojo.com/alltime/world/?pagenum=8&p=.htm\n"
     ]
    },
    {
     "name": "stderr",
     "output_type": "stream",
     "text": [
      "/usr/local/lib/python3.6/site-packages/urllib3/connectionpool.py:858: InsecureRequestWarning: Unverified HTTPS request is being made. Adding certificate verification is strongly advised. See: https://urllib3.readthedocs.io/en/latest/advanced-usage.html#ssl-warnings\n",
      "  InsecureRequestWarning)\n"
     ]
    }
   ],
   "source": [
    "# coding: UTF-8\n",
    "import urllib3\n",
    "from bs4 import BeautifulSoup\n",
    "\n",
    "http = urllib3.PoolManager()\n",
    "with open('titles.txt', 'w') as file:\n",
    "    for num in range(1, 9):\n",
    "        url = \"http://www.boxofficemojo.com/alltime/world/\"\n",
    "        if num > 1:\n",
    "            url = url + '?pagenum=' + str(num) + '&p=.htm'\n",
    "        response = http.request('GET', url) \n",
    "        soup = BeautifulSoup(response.data, \"html.parser\")\n",
    "        rows = soup.select('tr')\n",
    "\n",
    "        for index, row in enumerate(rows):\n",
    "            if index < 3:\n",
    "                continue\n",
    "            title = row.select_one('a')\n",
    "            if title:\n",
    "                file.write(title.string)\n",
    "                file.write('\\n')"
   ]
  },
  {
   "cell_type": "markdown",
   "metadata": {},
   "source": [
    "### DB Setup\n",
    "Create a table to store the movie title and plot data.\n",
    "\n",
    "映画のタイトルとあらすじを格納するためのテーブルを作成します。"
   ]
  },
  {
   "cell_type": "code",
   "execution_count": 28,
   "metadata": {},
   "outputs": [],
   "source": [
    "# create table\n",
    "import sqlite3\n",
    "\n",
    "dbname = 'recommend.db'\n",
    "conn = sqlite3.connect(dbname)\n",
    "\n",
    "conn.execute('drop table if exists movies')\n",
    "conn.execute('create table movies(id, title, plot)')\n",
    "conn.commit()\n",
    "conn.close()\n"
   ]
  },
  {
   "cell_type": "markdown",
   "metadata": {},
   "source": [
    "### Get plot data using API\n",
    "Using the movie titles retrieved at Data Setup step, get the plot of each title by requesting to OMDb API.\n",
    "\n",
    "データセットアップで取得した映画タイトルを使って、OMDb APIからあらすじデータを取得します。"
   ]
  },
  {
   "cell_type": "code",
   "execution_count": 30,
   "metadata": {},
   "outputs": [
    {
     "name": "stdout",
     "output_type": "stream",
     "text": [
      "http://www.omdbapi.com/?i=tt3896198&apikey=1e73269b&plot=full&t=Knight+%26+Day\n",
      "http://www.omdbapi.com/?i=tt3896198&apikey=1e73269b&plot=full&t=Marley+and+Me\n"
     ]
    }
   ],
   "source": [
    "# coding: UTF-8\n",
    "import urllib3\n",
    "import json\n",
    "import re\n",
    "import sqlite3\n",
    "\n",
    "with open('apikey.txt', 'r') as file:\n",
    "    apikey = file.read()\n",
    "    http = urllib3.PoolManager() \n",
    "    base_url = \"http://www.omdbapi.com/?apikey=\" + apikey + \"&plot=full&t=\"\n",
    "\n",
    "    dbname = 'recommend.db'\n",
    "    conn = sqlite3.connect(dbname)\n",
    "    id = 1\n",
    "\n",
    "    with open('titles.txt', 'r') as file:\n",
    "        titles = file.read().splitlines()\n",
    "        for title in titles:\n",
    "            title = re.sub('\\(\\d+\\)', '', title)\n",
    "            title = title.replace('&', '%26')\n",
    "            title = title.replace(' ', '+')\n",
    "            url = base_url + title\n",
    "            response = http.request('GET', url)\n",
    "            data = json.loads(response.data)\n",
    "            if \"Title\" not in data:\n",
    "                print(url)\n",
    "            else:\n",
    "                t =  data['Title'].replace('\\'', '')\n",
    "                plot = data['Plot'].replace('\\'', '')\n",
    "                conn.execute(\"insert into movies(id, title, plot) values (%d, '%s', '%s')\" % (id, t, plot))\n",
    "                id += 1\n",
    "\n",
    "    conn.commit()\n",
    "    conn.close()"
   ]
  },
  {
   "cell_type": "markdown",
   "metadata": {},
   "source": [
    "### Recommendation\n",
    "Recommend a movie which has the most similar plot to the user input.\n",
    "Movie plots can be evaluated by vectorizing using tf-idf.\n",
    "The similarity between two vectors can be calculated by cosine_similarity.\n",
    "recommend_engine class calculates the cosine_similarity of the input movie title and all stored titles then returns the best result.\n",
    "\n",
    "ユーザが入力した映画タイトルをもとに、最も似たあらすじをもつ映画を返します。\n",
    "映画のあらすじはtf-idfを使うことでベクトルとして表現できます。\n",
    "ベクトル同士の類似度はコサイン類似度を用いて計算が可能です。\n",
    "recommend_engineクラスは、与えられた映画とDBに保持している映画とのコサイン類似度を計算し、もっとも高いスコアのものを返します。"
   ]
  },
  {
   "cell_type": "code",
   "execution_count": 99,
   "metadata": {},
   "outputs": [
    {
     "name": "stdout",
     "output_type": "stream",
     "text": [
      "好きな映画のタイトルを英語で入力してくださいLife Is Beautiful\n",
      "\n",
      "Life Is Beautifulが好きなあなたへのオススメはこちら！\n",
      "Title: Inglourious Basterds\n",
      "Plot: In German-occupied France, young Jewish refugee Shosanna Dreyfus witnesses the slaughter of her family by Colonel Hans Landa. Narrowly escaping with her life, she plots her revenge several years later when German war hero Fredrick Zoller takes a rapid interest in her and arranges an illustrious movie premiere at the theater she now runs. With the promise of every major Nazi officer in attendance, the event catches the attention of the \"Basterds\", a group of Jewish-American guerrilla soldiers led by the ruthless Lt. Aldo Raine. As the relentless executioners advance and the conspiring young girls plans are set in motion, their paths will cross for a fateful evening that will shake the very annals of history.\n"
     ]
    }
   ],
   "source": [
    "%precision %.2f\n",
    "\n",
    "import urllib3\n",
    "import json\n",
    "import sqlite3\n",
    "import re\n",
    "import numpy as np\n",
    "from sklearn.feature_extraction.text import TfidfVectorizer\n",
    "from sklearn.metrics.pairwise import cosine_similarity\n",
    "\n",
    "class recommend_engine:\n",
    "    def __init__(self, dbname, apikey):\n",
    "        self.conn = sqlite3.connect(dbname)\n",
    "        self.apikey = apikey\n",
    "        \n",
    "    def __delete__(self):\n",
    "        self.conn.close()\n",
    "\n",
    "    # Escape the white spaces\n",
    "    def __format_title(self, title):\n",
    "        return title.replace(' ', '%20')\n",
    "\n",
    "    # Delete numbers as they are valueless in vectorization\n",
    "    def __format_plot(self, plot):\n",
    "        return re.sub('\\d', '', plot)\n",
    "        \n",
    "    def __fetch_plot(self, title):\n",
    "        http = urllib3.PoolManager()\n",
    "        base_url = \"http://www.omdbapi.com/?apikey=\" +  self.apikey + \"&plot=full&t=\"\n",
    "\n",
    "        url = base_url + self.__format_title(title)\n",
    "        response = http.request('GET', url) \n",
    "        data = json.loads(response.data)\n",
    "        \n",
    "        if 'Plot' not in data:\n",
    "            return None\n",
    "        \n",
    "        plot =  data['Plot'].replace('\\'', '')\n",
    "        return plot\n",
    "        \n",
    "    def __find_most_similar(self, vecs):\n",
    "        target_vec = vecs[-1]\n",
    "        best_score = 0\n",
    "        best_index = -1\n",
    "\n",
    "        length = vecs.shape[0]\n",
    "\n",
    "        for index, vec in enumerate(vecs):\n",
    "            #　Break as the last one is the user input\n",
    "            if index == length - 1:\n",
    "                break\n",
    "\n",
    "            score = cosine_similarity(target_vec, vec)\n",
    "            # Exclude the same movie as the user input\n",
    "            if score < 1 and score > best_score:\n",
    "                best_score = score\n",
    "                best_index = index\n",
    "        \n",
    "        if best_index == -1:\n",
    "            # \"We can't find any recommended movies. Please try a different title.\"\n",
    "            raise Exception(\"オススメの映画が見つかりませんでした。違うタイトルを試してください。\")\n",
    "            \n",
    "        return (best_index, best_score)\n",
    "\n",
    "    def recommend(self, title):\n",
    "        data = self.conn.execute('select * from movies')\n",
    "        data_list = data.fetchall()\n",
    "        title_plots = [(row[1], row[2]) for row in data_list]\n",
    "\n",
    "        plot = self.__fetch_plot(title)\n",
    "        if plot is None:\n",
    "            # \"We can't get the movie data. Please try a different title.\"\n",
    "            raise Exception('作品データが取得できませんでした。違うタイトルを試してください。')\n",
    "        \n",
    "        title_plots.append((title, plot))\n",
    "\n",
    "        vectorizer = TfidfVectorizer()\n",
    "        vecs = vectorizer.fit_transform([self.__format_plot(p[1]) for p in title_plots])\n",
    "\n",
    "        (best_index, best_score) = self.__find_most_similar(vecs)\n",
    "        return title_plots[best_index]\n",
    "\n",
    "with open('apikey.txt', 'r') as file:\n",
    "    engine = recommend_engine('recommend.db', file.read())\n",
    "    # Input your favorite movie title in English.\n",
    "    title = input('好きな映画のタイトルを英語で入力してください')\n",
    "\n",
    "    try:\n",
    "        (recommended_title, recommended_plot) = engine.recommend(title)\n",
    "        print()\n",
    "        # This is our recommend for you!\n",
    "        print(title + 'が好きなあなたへのオススメはこちら！')\n",
    "        print('Title: ' + recommended_title)\n",
    "        print('Plot: ' + recommended_plot)\n",
    "    except Exception as e:\n",
    "        print(e)"
   ]
  }
 ],
 "metadata": {
  "kernelspec": {
   "display_name": "Python 3",
   "language": "python",
   "name": "python3"
  },
  "language_info": {
   "codemirror_mode": {
    "name": "ipython",
    "version": 3
   },
   "file_extension": ".py",
   "mimetype": "text/x-python",
   "name": "python",
   "nbconvert_exporter": "python",
   "pygments_lexer": "ipython3",
   "version": "3.6.3"
  }
 },
 "nbformat": 4,
 "nbformat_minor": 2
}
